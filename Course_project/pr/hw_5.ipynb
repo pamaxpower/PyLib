{
 "cells": [
  {
   "cell_type": "markdown",
   "metadata": {},
   "source": [
    "### Задача"
   ]
  },
  {
   "cell_type": "markdown",
   "metadata": {},
   "source": [
    "Вам предстоит решить типичную для продуктовой аналитики задачу прогноза LTV пользователя. Для этого необходимо:\n",
    "1) провести исследовательский анализ данных,\n",
    "2) визуализировать результаты и сделать из них выводы,\n",
    "3) провести предобработку признаков (возможно создать новые),\n",
    "4) обучить модели, и подобрать для каждой из них оптимальные гиперпараметры,\n",
    "5) оценить работу моделей и сравнить их между собой, выбрать итоговую и объяснить свой выбор,\n",
    "6) проинтерпретировать получившиеся результаты (что и как влияет на LTV пользователя)."
   ]
  },
  {
   "cell_type": "markdown",
   "metadata": {},
   "source": [
    "### Данные\n",
    "В файле LTV.csv представлены данные о пользователях с автомобильной страховкой, собранных системой аналитики компании IBM. https://www.ibm.com/communities/analytics/watson-analytics-blog/marketing-customer-value-analysis/\n"
   ]
  },
  {
   "cell_type": "markdown",
   "metadata": {},
   "source": [
    "Описание данных:\n",
    "\n",
    "* Customer - идентификатор пользователя\n",
    "* State - штат\n",
    "* Customer Lifetime Value - LTV пользователя\n",
    "* Response - взаимодействие с рекламой\n",
    "* Coverage - тип страхового покрытия\n",
    "* Education - образование\n",
    "* Effective to date - срок действия страховки\n",
    "* EmploymentStatus - трудоустройство\n",
    "* Gender - пол\n",
    "* Income - доход\n",
    "* Location code - тип местности в которой проживает пользователь\n",
    "* Marital Status - семейное положение\n",
    "* Monthly Premium Auto\n",
    "* Months Since Last Claim - месяцев с последнего требования по выплате компенсации\n",
    "* Months Since Policy Inception - месяцев с открытия страховки\n",
    "* Number of Open Complaints - количество незакрытых жалоб\n",
    "* Number of Policies - количество полисов\n",
    "* Policy Type - тип страховки\n",
    "* Policy - страховка\n",
    "* Renew Offer Type - обновленный тип предложения\n",
    "* Sales Channel - канал продаж\n",
    "* Total Claim Amount - сумма выплаченных компенсаций\n",
    "* Vehicle Class - класс автомобиля\n",
    "* Vehicle Size - размер автомобиля"
   ]
  },
  {
   "cell_type": "code",
   "execution_count": 7,
   "metadata": {},
   "outputs": [],
   "source": [
    "import pandas as pd\n",
    "import numpy as np\n",
    "import matplotlib.pyplot as plt\n",
    "import seaborn as sns\n",
    "import warnings\n",
    "\n",
    "warnings.filterwarnings('ignore')"
   ]
  },
  {
   "cell_type": "markdown",
   "metadata": {},
   "source": [
    "Загрузим датасет и посмотри несколько случайных значений из него"
   ]
  },
  {
   "cell_type": "code",
   "execution_count": 8,
   "metadata": {},
   "outputs": [
    {
     "name": "stdout",
     "output_type": "stream",
     "text": [
      "Размер датасета: (9134, 24)\n"
     ]
    },
    {
     "data": {
      "text/html": [
       "<div>\n",
       "<style scoped>\n",
       "    .dataframe tbody tr th:only-of-type {\n",
       "        vertical-align: middle;\n",
       "    }\n",
       "\n",
       "    .dataframe tbody tr th {\n",
       "        vertical-align: top;\n",
       "    }\n",
       "\n",
       "    .dataframe thead th {\n",
       "        text-align: right;\n",
       "    }\n",
       "</style>\n",
       "<table border=\"1\" class=\"dataframe\">\n",
       "  <thead>\n",
       "    <tr style=\"text-align: right;\">\n",
       "      <th></th>\n",
       "      <th>Customer</th>\n",
       "      <th>State</th>\n",
       "      <th>Customer Lifetime Value</th>\n",
       "      <th>Response</th>\n",
       "      <th>Coverage</th>\n",
       "      <th>Education</th>\n",
       "      <th>Effective To Date</th>\n",
       "      <th>EmploymentStatus</th>\n",
       "      <th>Gender</th>\n",
       "      <th>Income</th>\n",
       "      <th>...</th>\n",
       "      <th>Months Since Policy Inception</th>\n",
       "      <th>Number of Open Complaints</th>\n",
       "      <th>Number of Policies</th>\n",
       "      <th>Policy Type</th>\n",
       "      <th>Policy</th>\n",
       "      <th>Renew Offer Type</th>\n",
       "      <th>Sales Channel</th>\n",
       "      <th>Total Claim Amount</th>\n",
       "      <th>Vehicle Class</th>\n",
       "      <th>Vehicle Size</th>\n",
       "    </tr>\n",
       "  </thead>\n",
       "  <tbody>\n",
       "    <tr>\n",
       "      <th>7432</th>\n",
       "      <td>FG43850</td>\n",
       "      <td>Oregon</td>\n",
       "      <td>7472.672033</td>\n",
       "      <td>No</td>\n",
       "      <td>Extended</td>\n",
       "      <td>High School or Below</td>\n",
       "      <td>1/14/11</td>\n",
       "      <td>Employed</td>\n",
       "      <td>M</td>\n",
       "      <td>44385</td>\n",
       "      <td>...</td>\n",
       "      <td>31</td>\n",
       "      <td>0</td>\n",
       "      <td>7</td>\n",
       "      <td>Corporate Auto</td>\n",
       "      <td>Corporate L3</td>\n",
       "      <td>Offer4</td>\n",
       "      <td>Call Center</td>\n",
       "      <td>465.600000</td>\n",
       "      <td>Four-Door Car</td>\n",
       "      <td>Small</td>\n",
       "    </tr>\n",
       "    <tr>\n",
       "      <th>6689</th>\n",
       "      <td>VY58444</td>\n",
       "      <td>Nevada</td>\n",
       "      <td>4426.096934</td>\n",
       "      <td>No</td>\n",
       "      <td>Basic</td>\n",
       "      <td>College</td>\n",
       "      <td>1/19/11</td>\n",
       "      <td>Employed</td>\n",
       "      <td>F</td>\n",
       "      <td>29660</td>\n",
       "      <td>...</td>\n",
       "      <td>71</td>\n",
       "      <td>0</td>\n",
       "      <td>1</td>\n",
       "      <td>Personal Auto</td>\n",
       "      <td>Personal L3</td>\n",
       "      <td>Offer1</td>\n",
       "      <td>Agent</td>\n",
       "      <td>334.133949</td>\n",
       "      <td>SUV</td>\n",
       "      <td>Small</td>\n",
       "    </tr>\n",
       "    <tr>\n",
       "      <th>1320</th>\n",
       "      <td>ZH42145</td>\n",
       "      <td>Washington</td>\n",
       "      <td>2582.862313</td>\n",
       "      <td>No</td>\n",
       "      <td>Basic</td>\n",
       "      <td>High School or Below</td>\n",
       "      <td>2/22/11</td>\n",
       "      <td>Employed</td>\n",
       "      <td>F</td>\n",
       "      <td>50148</td>\n",
       "      <td>...</td>\n",
       "      <td>45</td>\n",
       "      <td>0</td>\n",
       "      <td>1</td>\n",
       "      <td>Corporate Auto</td>\n",
       "      <td>Corporate L3</td>\n",
       "      <td>Offer2</td>\n",
       "      <td>Web</td>\n",
       "      <td>323.485239</td>\n",
       "      <td>Four-Door Car</td>\n",
       "      <td>Small</td>\n",
       "    </tr>\n",
       "    <tr>\n",
       "      <th>1337</th>\n",
       "      <td>ZB62469</td>\n",
       "      <td>California</td>\n",
       "      <td>2161.685527</td>\n",
       "      <td>No</td>\n",
       "      <td>Basic</td>\n",
       "      <td>High School or Below</td>\n",
       "      <td>2/21/11</td>\n",
       "      <td>Unemployed</td>\n",
       "      <td>M</td>\n",
       "      <td>0</td>\n",
       "      <td>...</td>\n",
       "      <td>75</td>\n",
       "      <td>2</td>\n",
       "      <td>1</td>\n",
       "      <td>Corporate Auto</td>\n",
       "      <td>Corporate L3</td>\n",
       "      <td>Offer2</td>\n",
       "      <td>Call Center</td>\n",
       "      <td>482.400000</td>\n",
       "      <td>Two-Door Car</td>\n",
       "      <td>Medsize</td>\n",
       "    </tr>\n",
       "    <tr>\n",
       "      <th>7999</th>\n",
       "      <td>JO68735</td>\n",
       "      <td>California</td>\n",
       "      <td>2292.791874</td>\n",
       "      <td>No</td>\n",
       "      <td>Basic</td>\n",
       "      <td>Bachelor</td>\n",
       "      <td>2/6/11</td>\n",
       "      <td>Unemployed</td>\n",
       "      <td>F</td>\n",
       "      <td>0</td>\n",
       "      <td>...</td>\n",
       "      <td>30</td>\n",
       "      <td>0</td>\n",
       "      <td>1</td>\n",
       "      <td>Personal Auto</td>\n",
       "      <td>Personal L3</td>\n",
       "      <td>Offer1</td>\n",
       "      <td>Branch</td>\n",
       "      <td>460.800000</td>\n",
       "      <td>Two-Door Car</td>\n",
       "      <td>Medsize</td>\n",
       "    </tr>\n",
       "    <tr>\n",
       "      <th>5835</th>\n",
       "      <td>EV68966</td>\n",
       "      <td>California</td>\n",
       "      <td>9419.883665</td>\n",
       "      <td>No</td>\n",
       "      <td>Basic</td>\n",
       "      <td>College</td>\n",
       "      <td>2/23/11</td>\n",
       "      <td>Employed</td>\n",
       "      <td>M</td>\n",
       "      <td>87840</td>\n",
       "      <td>...</td>\n",
       "      <td>42</td>\n",
       "      <td>1</td>\n",
       "      <td>3</td>\n",
       "      <td>Personal Auto</td>\n",
       "      <td>Personal L3</td>\n",
       "      <td>Offer1</td>\n",
       "      <td>Call Center</td>\n",
       "      <td>161.590594</td>\n",
       "      <td>SUV</td>\n",
       "      <td>Medsize</td>\n",
       "    </tr>\n",
       "    <tr>\n",
       "      <th>8792</th>\n",
       "      <td>WK55963</td>\n",
       "      <td>California</td>\n",
       "      <td>8130.651447</td>\n",
       "      <td>No</td>\n",
       "      <td>Basic</td>\n",
       "      <td>College</td>\n",
       "      <td>1/2/11</td>\n",
       "      <td>Employed</td>\n",
       "      <td>M</td>\n",
       "      <td>61036</td>\n",
       "      <td>...</td>\n",
       "      <td>75</td>\n",
       "      <td>0</td>\n",
       "      <td>2</td>\n",
       "      <td>Corporate Auto</td>\n",
       "      <td>Corporate L3</td>\n",
       "      <td>Offer3</td>\n",
       "      <td>Web</td>\n",
       "      <td>413.252330</td>\n",
       "      <td>Two-Door Car</td>\n",
       "      <td>Medsize</td>\n",
       "    </tr>\n",
       "    <tr>\n",
       "      <th>1379</th>\n",
       "      <td>CU13711</td>\n",
       "      <td>Oregon</td>\n",
       "      <td>10864.274910</td>\n",
       "      <td>No</td>\n",
       "      <td>Basic</td>\n",
       "      <td>Doctor</td>\n",
       "      <td>2/9/11</td>\n",
       "      <td>Employed</td>\n",
       "      <td>F</td>\n",
       "      <td>95579</td>\n",
       "      <td>...</td>\n",
       "      <td>78</td>\n",
       "      <td>0</td>\n",
       "      <td>2</td>\n",
       "      <td>Personal Auto</td>\n",
       "      <td>Personal L1</td>\n",
       "      <td>Offer1</td>\n",
       "      <td>Agent</td>\n",
       "      <td>308.631159</td>\n",
       "      <td>Four-Door Car</td>\n",
       "      <td>Medsize</td>\n",
       "    </tr>\n",
       "    <tr>\n",
       "      <th>2822</th>\n",
       "      <td>PZ31902</td>\n",
       "      <td>Arizona</td>\n",
       "      <td>5797.604861</td>\n",
       "      <td>No</td>\n",
       "      <td>Basic</td>\n",
       "      <td>Bachelor</td>\n",
       "      <td>2/22/11</td>\n",
       "      <td>Employed</td>\n",
       "      <td>F</td>\n",
       "      <td>69276</td>\n",
       "      <td>...</td>\n",
       "      <td>22</td>\n",
       "      <td>2</td>\n",
       "      <td>8</td>\n",
       "      <td>Personal Auto</td>\n",
       "      <td>Personal L3</td>\n",
       "      <td>Offer4</td>\n",
       "      <td>Web</td>\n",
       "      <td>201.327931</td>\n",
       "      <td>Two-Door Car</td>\n",
       "      <td>Medsize</td>\n",
       "    </tr>\n",
       "    <tr>\n",
       "      <th>2168</th>\n",
       "      <td>IS63925</td>\n",
       "      <td>Arizona</td>\n",
       "      <td>7805.312870</td>\n",
       "      <td>Yes</td>\n",
       "      <td>Basic</td>\n",
       "      <td>College</td>\n",
       "      <td>1/27/11</td>\n",
       "      <td>Retired</td>\n",
       "      <td>F</td>\n",
       "      <td>21073</td>\n",
       "      <td>...</td>\n",
       "      <td>54</td>\n",
       "      <td>1</td>\n",
       "      <td>3</td>\n",
       "      <td>Personal Auto</td>\n",
       "      <td>Personal L2</td>\n",
       "      <td>Offer1</td>\n",
       "      <td>Agent</td>\n",
       "      <td>508.800000</td>\n",
       "      <td>SUV</td>\n",
       "      <td>Small</td>\n",
       "    </tr>\n",
       "  </tbody>\n",
       "</table>\n",
       "<p>10 rows × 24 columns</p>\n",
       "</div>"
      ],
      "text/plain": [
       "     Customer       State  Customer Lifetime Value Response  Coverage  \\\n",
       "7432  FG43850      Oregon              7472.672033       No  Extended   \n",
       "6689  VY58444      Nevada              4426.096934       No     Basic   \n",
       "1320  ZH42145  Washington              2582.862313       No     Basic   \n",
       "1337  ZB62469  California              2161.685527       No     Basic   \n",
       "7999  JO68735  California              2292.791874       No     Basic   \n",
       "5835  EV68966  California              9419.883665       No     Basic   \n",
       "8792  WK55963  California              8130.651447       No     Basic   \n",
       "1379  CU13711      Oregon             10864.274910       No     Basic   \n",
       "2822  PZ31902     Arizona              5797.604861       No     Basic   \n",
       "2168  IS63925     Arizona              7805.312870      Yes     Basic   \n",
       "\n",
       "                 Education Effective To Date EmploymentStatus Gender  Income  \\\n",
       "7432  High School or Below           1/14/11         Employed      M   44385   \n",
       "6689               College           1/19/11         Employed      F   29660   \n",
       "1320  High School or Below           2/22/11         Employed      F   50148   \n",
       "1337  High School or Below           2/21/11       Unemployed      M       0   \n",
       "7999              Bachelor            2/6/11       Unemployed      F       0   \n",
       "5835               College           2/23/11         Employed      M   87840   \n",
       "8792               College            1/2/11         Employed      M   61036   \n",
       "1379                Doctor            2/9/11         Employed      F   95579   \n",
       "2822              Bachelor           2/22/11         Employed      F   69276   \n",
       "2168               College           1/27/11          Retired      F   21073   \n",
       "\n",
       "      ... Months Since Policy Inception Number of Open Complaints  \\\n",
       "7432  ...                            31                         0   \n",
       "6689  ...                            71                         0   \n",
       "1320  ...                            45                         0   \n",
       "1337  ...                            75                         2   \n",
       "7999  ...                            30                         0   \n",
       "5835  ...                            42                         1   \n",
       "8792  ...                            75                         0   \n",
       "1379  ...                            78                         0   \n",
       "2822  ...                            22                         2   \n",
       "2168  ...                            54                         1   \n",
       "\n",
       "      Number of Policies     Policy Type        Policy  Renew Offer Type  \\\n",
       "7432                   7  Corporate Auto  Corporate L3            Offer4   \n",
       "6689                   1   Personal Auto   Personal L3            Offer1   \n",
       "1320                   1  Corporate Auto  Corporate L3            Offer2   \n",
       "1337                   1  Corporate Auto  Corporate L3            Offer2   \n",
       "7999                   1   Personal Auto   Personal L3            Offer1   \n",
       "5835                   3   Personal Auto   Personal L3            Offer1   \n",
       "8792                   2  Corporate Auto  Corporate L3            Offer3   \n",
       "1379                   2   Personal Auto   Personal L1            Offer1   \n",
       "2822                   8   Personal Auto   Personal L3            Offer4   \n",
       "2168                   3   Personal Auto   Personal L2            Offer1   \n",
       "\n",
       "      Sales Channel Total Claim Amount  Vehicle Class Vehicle Size  \n",
       "7432    Call Center         465.600000  Four-Door Car        Small  \n",
       "6689          Agent         334.133949            SUV        Small  \n",
       "1320            Web         323.485239  Four-Door Car        Small  \n",
       "1337    Call Center         482.400000   Two-Door Car      Medsize  \n",
       "7999         Branch         460.800000   Two-Door Car      Medsize  \n",
       "5835    Call Center         161.590594            SUV      Medsize  \n",
       "8792            Web         413.252330   Two-Door Car      Medsize  \n",
       "1379          Agent         308.631159  Four-Door Car      Medsize  \n",
       "2822            Web         201.327931   Two-Door Car      Medsize  \n",
       "2168          Agent         508.800000            SUV        Small  \n",
       "\n",
       "[10 rows x 24 columns]"
      ]
     },
     "execution_count": 8,
     "metadata": {},
     "output_type": "execute_result"
    }
   ],
   "source": [
    "train_data = pd.read_csv('../../../MyPython\\DS\\les_5/LTV.csv')\n",
    "\n",
    "print(f'Размер датасета: {train_data.shape}')\n",
    "\n",
    "train_data.sample(10)"
   ]
  },
  {
   "cell_type": "markdown",
   "metadata": {},
   "source": [
    "Посмотрим информацию о датасете"
   ]
  },
  {
   "cell_type": "code",
   "execution_count": 9,
   "metadata": {},
   "outputs": [
    {
     "name": "stdout",
     "output_type": "stream",
     "text": [
      "<class 'pandas.core.frame.DataFrame'>\n",
      "RangeIndex: 9134 entries, 0 to 9133\n",
      "Data columns (total 24 columns):\n",
      " #   Column                         Non-Null Count  Dtype  \n",
      "---  ------                         --------------  -----  \n",
      " 0   Customer                       9134 non-null   object \n",
      " 1   State                          9134 non-null   object \n",
      " 2   Customer Lifetime Value        9134 non-null   float64\n",
      " 3   Response                       9134 non-null   object \n",
      " 4   Coverage                       9134 non-null   object \n",
      " 5   Education                      9134 non-null   object \n",
      " 6   Effective To Date              9134 non-null   object \n",
      " 7   EmploymentStatus               9134 non-null   object \n",
      " 8   Gender                         9134 non-null   object \n",
      " 9   Income                         9134 non-null   int64  \n",
      " 10  Location Code                  9134 non-null   object \n",
      " 11  Marital Status                 9134 non-null   object \n",
      " 12  Monthly Premium Auto           9134 non-null   int64  \n",
      " 13  Months Since Last Claim        9134 non-null   int64  \n",
      " 14  Months Since Policy Inception  9134 non-null   int64  \n",
      " 15  Number of Open Complaints      9134 non-null   int64  \n",
      " 16  Number of Policies             9134 non-null   int64  \n",
      " 17  Policy Type                    9134 non-null   object \n",
      " 18  Policy                         9134 non-null   object \n",
      " 19  Renew Offer Type               9134 non-null   object \n",
      " 20  Sales Channel                  9134 non-null   object \n",
      " 21  Total Claim Amount             9134 non-null   float64\n",
      " 22  Vehicle Class                  9134 non-null   object \n",
      " 23  Vehicle Size                   9134 non-null   object \n",
      "dtypes: float64(2), int64(6), object(16)\n",
      "memory usage: 1.7+ MB\n"
     ]
    }
   ],
   "source": [
    "train_data.info()"
   ]
  },
  {
   "cell_type": "markdown",
   "metadata": {},
   "source": [
    "Проверим датасет на дубликаты"
   ]
  },
  {
   "cell_type": "code",
   "execution_count": 10,
   "metadata": {},
   "outputs": [
    {
     "data": {
      "text/html": [
       "<div>\n",
       "<style scoped>\n",
       "    .dataframe tbody tr th:only-of-type {\n",
       "        vertical-align: middle;\n",
       "    }\n",
       "\n",
       "    .dataframe tbody tr th {\n",
       "        vertical-align: top;\n",
       "    }\n",
       "\n",
       "    .dataframe thead th {\n",
       "        text-align: right;\n",
       "    }\n",
       "</style>\n",
       "<table border=\"1\" class=\"dataframe\">\n",
       "  <thead>\n",
       "    <tr style=\"text-align: right;\">\n",
       "      <th></th>\n",
       "      <th>Customer</th>\n",
       "      <th>State</th>\n",
       "      <th>Customer Lifetime Value</th>\n",
       "      <th>Response</th>\n",
       "      <th>Coverage</th>\n",
       "      <th>Education</th>\n",
       "      <th>Effective To Date</th>\n",
       "      <th>EmploymentStatus</th>\n",
       "      <th>Gender</th>\n",
       "      <th>Income</th>\n",
       "      <th>...</th>\n",
       "      <th>Months Since Policy Inception</th>\n",
       "      <th>Number of Open Complaints</th>\n",
       "      <th>Number of Policies</th>\n",
       "      <th>Policy Type</th>\n",
       "      <th>Policy</th>\n",
       "      <th>Renew Offer Type</th>\n",
       "      <th>Sales Channel</th>\n",
       "      <th>Total Claim Amount</th>\n",
       "      <th>Vehicle Class</th>\n",
       "      <th>Vehicle Size</th>\n",
       "    </tr>\n",
       "  </thead>\n",
       "  <tbody>\n",
       "  </tbody>\n",
       "</table>\n",
       "<p>0 rows × 24 columns</p>\n",
       "</div>"
      ],
      "text/plain": [
       "Empty DataFrame\n",
       "Columns: [Customer, State, Customer Lifetime Value, Response, Coverage, Education, Effective To Date, EmploymentStatus, Gender, Income, Location Code, Marital Status, Monthly Premium Auto, Months Since Last Claim, Months Since Policy Inception, Number of Open Complaints, Number of Policies, Policy Type, Policy, Renew Offer Type, Sales Channel, Total Claim Amount, Vehicle Class, Vehicle Size]\n",
       "Index: []\n",
       "\n",
       "[0 rows x 24 columns]"
      ]
     },
     "execution_count": 10,
     "metadata": {},
     "output_type": "execute_result"
    }
   ],
   "source": [
    "duplicates = train_data.duplicated()\n",
    "train_data[duplicates]"
   ]
  },
  {
   "cell_type": "markdown",
   "metadata": {},
   "source": [
    "Вывод: В датасете представлены 24 столбца с разными типами значений (строковые  и числовые), пустые значение в столбцах отсутствуют, дубликаты отсутствуют"
   ]
  },
  {
   "cell_type": "markdown",
   "metadata": {},
   "source": [
    "### Визуализация данных"
   ]
  },
  {
   "cell_type": "markdown",
   "metadata": {},
   "source": [
    "Выделим матрицу признаков и вектор с целевой переменной в тренировочной выборке"
   ]
  },
  {
   "cell_type": "code",
   "execution_count": 11,
   "metadata": {},
   "outputs": [],
   "source": [
    "# Тренировочная выборка\n",
    "X = train_data.drop('Customer Lifetime Value', axis = 1)\n",
    "\n",
    "# Целевая переменная\n",
    "y = pd.DataFrame(train_data['Customer Lifetime Value'])"
   ]
  },
  {
   "cell_type": "markdown",
   "metadata": {},
   "source": [
    "Выделяем численные признаки от остальных"
   ]
  },
  {
   "cell_type": "code",
   "execution_count": 12,
   "metadata": {},
   "outputs": [
    {
     "name": "stdout",
     "output_type": "stream",
     "text": [
      "['Income', 'Monthly Premium Auto', 'Months Since Last Claim', 'Months Since Policy Inception', 'Number of Open Complaints', 'Number of Policies', 'Total Claim Amount']\n"
     ]
    }
   ],
   "source": [
    "num_cols = []\n",
    "str_cols = []\n",
    "\n",
    "cols_and_type = X.dtypes.to_dict()\n",
    "\n",
    "for col in cols_and_type:\n",
    "    if cols_and_type[col] in ('int64', 'float64'):\n",
    "        num_cols.append(col)\n",
    "    else: \n",
    "        str_cols.append(col)\n",
    "        \n",
    "print(num_cols)"
   ]
  },
  {
   "cell_type": "code",
   "execution_count": 13,
   "metadata": {},
   "outputs": [
    {
     "data": {
      "text/plain": [
       "{'Customer': dtype('O'),\n",
       " 'State': dtype('O'),\n",
       " 'Response': dtype('O'),\n",
       " 'Coverage': dtype('O'),\n",
       " 'Education': dtype('O'),\n",
       " 'Effective To Date': dtype('O'),\n",
       " 'EmploymentStatus': dtype('O'),\n",
       " 'Gender': dtype('O'),\n",
       " 'Income': dtype('int64'),\n",
       " 'Location Code': dtype('O'),\n",
       " 'Marital Status': dtype('O'),\n",
       " 'Monthly Premium Auto': dtype('int64'),\n",
       " 'Months Since Last Claim': dtype('int64'),\n",
       " 'Months Since Policy Inception': dtype('int64'),\n",
       " 'Number of Open Complaints': dtype('int64'),\n",
       " 'Number of Policies': dtype('int64'),\n",
       " 'Policy Type': dtype('O'),\n",
       " 'Policy': dtype('O'),\n",
       " 'Renew Offer Type': dtype('O'),\n",
       " 'Sales Channel': dtype('O'),\n",
       " 'Total Claim Amount': dtype('float64'),\n",
       " 'Vehicle Class': dtype('O'),\n",
       " 'Vehicle Size': dtype('O')}"
      ]
     },
     "execution_count": 13,
     "metadata": {},
     "output_type": "execute_result"
    }
   ],
   "source": [
    "cols_and_type"
   ]
  },
  {
   "cell_type": "markdown",
   "metadata": {},
   "source": [
    "На основе текста задания построим словарь названий признаков, чтобы легче было понять график признаков"
   ]
  },
  {
   "cell_type": "code",
   "execution_count": 23,
   "metadata": {},
   "outputs": [],
   "source": [
    "dict_col = {\n",
    "'Customer': 'идентификатор пользователя',\n",
    "'State': 'штат',\n",
    "'Customer Lifetime Value': 'LTV пользователя',\n",
    "'Response': 'взаимодействие с рекламой',\n",
    "'Coverage': 'тип страхового покрытия',\n",
    "'Education': 'образование',\n",
    "'Effective To Date': 'срок действия страховки',\n",
    "'EmploymentStatus': 'трудоустройство',\n",
    "'Gender': 'пол',\n",
    "'Income': 'доход',\n",
    "'Location Code': 'тип местности в которой проживает пользователь',\n",
    "'Marital Status': 'семейное положение',\n",
    "'Monthly Premium Auto': 'Ежемесячный Премиум Авто',\n",
    "'Months Since Last Claim': 'месяцев с последнего \\n требования по выплате компенсации',\n",
    "'Months Since Policy Inception': 'месяцев с открытия страховки',\n",
    "'Number of Open Complaints': 'количество незакрытых жалоб',\n",
    "'Number of Policies': 'количество полисов',\n",
    "'Policy Type': 'тип страховки',\n",
    "'Policy': 'страховка',\n",
    "'Renew Offer Type': 'обновленный тип предложения',\n",
    "'Sales Channel': 'канал продаж',\n",
    "'Total Claim Amount': 'сумма выплаченных компенсаций',\n",
    "'Vehicle Class': 'класс автомобиля',\n",
    "'Vehicle Size': 'размер автомобиля'\n",
    "}"
   ]
  },
  {
   "cell_type": "markdown",
   "metadata": {},
   "source": [
    "Построим графики и посмотрим на распределение признаков"
   ]
  },
  {
   "cell_type": "code",
   "execution_count": 24,
   "metadata": {},
   "outputs": [
    {
     "data": {
      "image/png": "[encoded data removed]",
      "text/plain": [
       "<Figure size 1000x1000 with 1 Axes>"
      ]
     },
     "metadata": {},
     "output_type": "display_data"
    }
   ],
   "source": [
    "plt.figure(figsize = (10, 10))\n",
    "plt.title('Распределение целевой переменной')\n",
    "train_data['Customer Lifetime Value'].hist()\n",
    "\n",
    "plt.show()"
   ]
  },
  {
   "cell_type": "markdown",
   "metadata": {},
   "source": [
    "Распределение числовых признаков"
   ]
  },
  {
   "cell_type": "code",
   "execution_count": 25,
   "metadata": {},
   "outputs": [
    {
     "data": {
      "image/png": "[encoded data removed]",
      "text/plain": [
       "<Figure size 1100x1300 with 7 Axes>"
      ]
     },
     "metadata": {},
     "output_type": "display_data"
    }
   ],
   "source": [
    "plt.figure(figsize = (11, 13))\n",
    "\n",
    "for i, col in enumerate(num_cols):\n",
    "    plt.subplot(6, 3, i+1)\n",
    "    plt.title(f'{dict_col[col]}')\n",
    "    plt.xticks(fontsize=8, rotation=0)\n",
    "    plt.yticks(fontsize=8, rotation=0)\n",
    "    sns.distplot(train_data[col])\n",
    "    \n",
    "plt.tight_layout()"
   ]
  },
  {
   "cell_type": "markdown",
   "metadata": {},
   "source": [
    "Вывод: Числовые признаки распределены нормально"
   ]
  },
  {
   "cell_type": "markdown",
   "metadata": {},
   "source": [
    "Распределение строковых признаков"
   ]
  },
  {
   "cell_type": "code",
   "execution_count": null,
   "metadata": {},
   "outputs": [],
   "source": [
    "for col in str_cols:\n",
    "    plt.figure(figsize = (10, 10))\n",
    "    plt.title(f'Распределение признака \"{dict_col[col]}\" в тренировочных данных')\n",
    "    plt.xticks(rotation=90)\n",
    "    train_data[col].hist()"
   ]
  },
  {
   "cell_type": "markdown",
   "metadata": {},
   "source": [
    "### Предобработка признаков"
   ]
  },
  {
   "cell_type": "markdown",
   "metadata": {},
   "source": [
    "С помощью LabelEncoder приведем строковые признаки к числовым"
   ]
  },
  {
   "cell_type": "code",
   "execution_count": null,
   "metadata": {},
   "outputs": [],
   "source": [
    "from sklearn.preprocessing import LabelEncoder\n",
    "\n",
    "le = LabelEncoder()\n",
    "for col in str_cols:\n",
    "    X[col] = le.fit_transform(X[col])\n",
    "\n",
    "X.sample(10)"
   ]
  },
  {
   "cell_type": "code",
   "execution_count": null,
   "metadata": {},
   "outputs": [],
   "source": [
    "X.info()"
   ]
  },
  {
   "cell_type": "markdown",
   "metadata": {},
   "source": [
    "Прорведем стандартизацию данных"
   ]
  },
  {
   "cell_type": "code",
   "execution_count": null,
   "metadata": {},
   "outputs": [],
   "source": [
    "from sklearn.preprocessing import StandardScaler\n",
    "\n",
    "sc = StandardScaler()\n",
    "X_sc = sc.fit_transform(X)"
   ]
  },
  {
   "cell_type": "markdown",
   "metadata": {},
   "source": [
    "Построим матрицу корреляции"
   ]
  },
  {
   "cell_type": "code",
   "execution_count": null,
   "metadata": {},
   "outputs": [],
   "source": [
    "# Преобразуем матрицу признаков в DataFrame\n",
    "train_data_trasformed = pd.DataFrame(X_sc, columns = X.columns)\n",
    "train_data_trasformed['Customer Lifetime Value'] = y\n",
    "# Создаем корреляционную матрицу\n",
    "corr_m = train_data_trasformed.corr()\n",
    "corr_m = np.round(corr_m, 2)\n",
    "corr_m"
   ]
  },
  {
   "cell_type": "markdown",
   "metadata": {},
   "source": [
    "Визуализируем матрицу при помощи sns.heatmap"
   ]
  },
  {
   "cell_type": "code",
   "execution_count": null,
   "metadata": {},
   "outputs": [],
   "source": [
    "plt.figure(figsize = (18, 18))\n",
    "plt.title('Корреляционная матрица')\n",
    "sns.heatmap(corr_m, annot = True)\n",
    "plt.show()"
   ]
  },
  {
   "cell_type": "markdown",
   "metadata": {},
   "source": [
    "Вывод: Наиболее зависимы друг от друга признаки \"Страховка\" и \"Тип страховки\" (коэффициент корреляции 0,88) и \"Ежемесячный Премиум авто\" и \"Сумма выплаченных компенсаций\" (кк = 0,63)"
   ]
  },
  {
   "cell_type": "code",
   "execution_count": null,
   "metadata": {},
   "outputs": [],
   "source": [
    "X = X.drop('Customer', axis = 1)"
   ]
  },
  {
   "cell_type": "markdown",
   "metadata": {},
   "source": [
    "### Обучение моделей"
   ]
  },
  {
   "cell_type": "markdown",
   "metadata": {},
   "source": [
    "Сравним 3 модели (как в лекции): Логистическую регрессию, классификатор на решающем дереве, и случайный лес"
   ]
  },
  {
   "cell_type": "code",
   "execution_count": null,
   "metadata": {},
   "outputs": [],
   "source": [
    "# Логистическая регрессия\n",
    "from sklearn.linear_model import LogisticRegression\n",
    "\n",
    "# Кросс-валидация\n",
    "from sklearn.model_selection import cross_validate\n",
    "\n",
    "log_reg = LogisticRegression(C = 0.8, random_state = 42, max_iter = 500)\n",
    "\n",
    "cv_log_reg = cross_validate(log_reg, X_sc, y, cv = 5, scoring = 'roc_auc')\n",
    "print(cv_log_reg['test_score'])\n",
    "print(\"Результаты Логистической регрессии:\", sum(cv_log_reg['test_score']) / len(cv_log_reg['test_score']))\n"
   ]
  },
  {
   "cell_type": "code",
   "execution_count": null,
   "metadata": {},
   "outputs": [],
   "source": [
    "# Решающее дерево\n",
    "from sklearn.tree import DecisionTreeClassifier\n",
    "\n",
    "\n",
    "dec_tree = DecisionTreeClassifier(random_state = 42) # Можно найти более оптимальные гиперпараметры\n",
    "\n",
    "cv_dec_tree = cross_validate(dec_tree, X_sc, y, cv = 5, scoring = 'roc_auc')\n",
    "\n",
    "print(\"Результаты решающего дерева:\", sum(cv_dec_tree['test_score']) / len(cv_dec_tree['test_score']))\n"
   ]
  },
  {
   "cell_type": "code",
   "execution_count": null,
   "metadata": {},
   "outputs": [],
   "source": [
    "# Случайный лес\n",
    "from sklearn.ensemble import RandomForestClassifier\n",
    "\n",
    "\n",
    "ran_for = RandomForestClassifier(random_state = 42) # Можно найти более оптимальные гиперпараметры\n",
    "\n",
    "cv_ran_for = cross_validate(ran_for, X, y, cv = 5, scoring = 'roc_auc')\n",
    "\n",
    "print(\"Результаты решающего дерева:\", sum(cv_ran_for['test_score']) / len(cv_ran_for['test_score']))\n"
   ]
  },
  {
   "cell_type": "markdown",
   "metadata": {},
   "source": [
    "Вывод: "
   ]
  },
  {
   "cell_type": "markdown",
   "metadata": {},
   "source": [
    "### Интерпретация модели и важность признаков"
   ]
  },
  {
   "cell_type": "code",
   "execution_count": null,
   "metadata": {},
   "outputs": [],
   "source": [
    "# log_reg.fit(X, y)\n",
    "# print(\"Коэффициенты в линейной регрессии:\", log_reg.coef_)"
   ]
  },
  {
   "cell_type": "code",
   "execution_count": null,
   "metadata": {},
   "outputs": [],
   "source": [
    "# dec_tree.fit(X, y)\n",
    "# print(\"Важность признаков решающего дерева\", dec_tree.feature_importances_)"
   ]
  },
  {
   "cell_type": "code",
   "execution_count": null,
   "metadata": {},
   "outputs": [],
   "source": [
    "# import shap\n",
    "# # Загружаем JS шаблоны для визуализации\n",
    "# shap.initjs()\n",
    "\n",
    "# # Обязателен явный вызов метода fit\n",
    "# ran_for.fit(X, y)\n",
    "\n",
    "# print(\"Обучили модель, переходим к визуализации\")\n",
    "# # Интерпретируем предсказания модели при помощи SHAP\n",
    "# explainer = shap.TreeExplainer(ran_for)\n",
    "# shap_values = explainer.shap_values(X)"
   ]
  },
  {
   "cell_type": "code",
   "execution_count": null,
   "metadata": {},
   "outputs": [],
   "source": [
    "# # Общий график\n",
    "# shap.summary_plot(shap_values, X, plot_type=\"bar\")"
   ]
  }
 ],
 "metadata": {
  "kernelspec": {
   "display_name": "Python 3",
   "language": "python",
   "name": "python3"
  },
  "language_info": {
   "codemirror_mode": {
    "name": "ipython",
    "version": 3
   },
   "file_extension": ".py",
   "mimetype": "text/x-python",
   "name": "python",
   "nbconvert_exporter": "python",
   "pygments_lexer": "ipython3",
   "version": "3.10.9"
  }
 },
 "nbformat": 4,
 "nbformat_minor": 2
}
